{
 "cells": [
  {
   "cell_type": "markdown",
   "metadata": {},
   "source": [
    "# 일반 점 버전 (제주 제외)"
   ]
  },
  {
   "cell_type": "code",
   "execution_count": null,
   "metadata": {
    "scrolled": true
   },
   "outputs": [],
   "source": [
    "import time\n",
    "import pyautogui as p\n",
    "from tkinter import messagebox\n",
    "\n",
    "sku_code = p.locateCenterOnScreen(\"sku_code.png\", region = (197, 202, 1234, 98))\n",
    "bd_code = p.locateCenterOnScreen(\"mag.png\", region = (197, 202, 1234, 98))\n",
    "add_to_list = p.locateCenterOnScreen(\"add_to_list.png\")\n",
    "\n",
    "def alttab():\n",
    "    p.keyDown('alt');p.press('tab');p.keyUp('alt')\n",
    "    \n",
    "alttab()\n",
    "\n",
    "for i in range(12):\n",
    "      \n",
    "    p.hotkey('ctrl', 'c')\n",
    "    p.moveTo(bd_code);p.moveRel(-30,);p.click()\n",
    "    p.hotkey('ctrl', 'v');p.press('enter')\n",
    "    time.sleep(3)\n",
    "        \n",
    "    alttab()\n",
    "    p.press('right');p.press('right');p.hotkey('ctrl', 'c')\n",
    "   \n",
    "    p.click(sku_code)\n",
    "    p.hotkey('ctrl', 'a');p.press('delete');p.hotkey('ctrl', 'v');p.press('enter')\n",
    "    time.sleep(3)\n",
    "    \n",
    "    alttab()\n",
    "    p.press('right');p.hotkey('ctrl', 'c')\n",
    "    \n",
    "    p.moveTo(add_to_list)\n",
    "    p.moveRel(7, 45);p.click()\n",
    "    p.hotkey('ctrl', 'v')\n",
    "    p.click(add_to_list)\n",
    "    time.sleep(1.5)\n",
    "    add_error = p.locateCenterOnScreen(\"add_error.png\")\n",
    "    volume_error = p.locateCenterOnScreen(\"volume_error.png\")\n",
    "    \n",
    "    if add_error != None:\n",
    "        p.press('enter')\n",
    "        alttab()\n",
    "        p.press('right');p.press('f2');p.typewrite(\"SKU_NOT_CHECKED\");p.press('enter')\n",
    "        p.press('left');p.press('left');p.press('left');p.press('left')\n",
    "        \n",
    "    elif volume_error != None:\n",
    "        p.press('enter')\n",
    "        alttab()\n",
    "        p.press('right');p.press('f2');p.typewrite(\"QTY_EXCESS\");p.press('enter')\n",
    "        p.press('left');p.press('left');p.press('left');p.press('left')        \n",
    "        \n",
    "    else:\n",
    "        p.press('enter')\n",
    "        alttab()\n",
    "        p.press('right');p.press('f2');p.typewrite(\"DONE\");p.press('enter')\n",
    "        p.press('left');p.press('left');p.press('left');p.press('left')\n",
    "\n",
    "\n",
    "messagebox.showinfo(\"신청끝\", \"신청이 완료되었습니닿ㅎㅎ\")\n",
    "\n"
   ]
  },
  {
   "cell_type": "markdown",
   "metadata": {},
   "source": [
    "# 제주 버전"
   ]
  },
  {
   "cell_type": "code",
   "execution_count": 2,
   "metadata": {},
   "outputs": [
    {
     "data": {
      "text/plain": [
       "'ok'"
      ]
     },
     "execution_count": 2,
     "metadata": {},
     "output_type": "execute_result"
    }
   ],
   "source": [
    "import time\n",
    "import pyautogui as p\n",
    "from tkinter import messagebox\n",
    "\n",
    "sku_code = p.locateCenterOnScreen(\"sku_code.png\", region = (197, 202, 1234, 98))\n",
    "bd_code = p.locateCenterOnScreen(\"mag.png\", region = (197, 202, 1234, 98))\n",
    "add_to_list = p.locateCenterOnScreen(\"add_to_list.png\")\n",
    "\n",
    "def alttab():\n",
    "    p.keyDown('alt');p.press('tab');p.keyUp('alt')\n",
    "    \n",
    "alttab()\n",
    "\n",
    "for i in range(11):\n",
    "      \n",
    "    p.hotkey('ctrl', 'c')\n",
    "    p.moveTo(bd_code);p.moveRel(-30,);p.click()\n",
    "    p.hotkey('ctrl', 'v');p.press('enter')\n",
    "    time.sleep(3)\n",
    "        \n",
    "    alttab()\n",
    "    p.press('right');p.press('right');p.hotkey('ctrl', 'c')\n",
    "   \n",
    "    p.click(sku_code)\n",
    "    p.hotkey('ctrl', 'a');p.press('delete');p.hotkey('ctrl', 'v');p.press('enter')\n",
    "    time.sleep(3)\n",
    "        \n",
    "    tm1 = p.locateCenterOnScreen(\"1tm.png\", grayscale = True, region =(198, 480, 1231, 142))\n",
    "    tm2 = p.locateCenterOnScreen(\"1tm_2.png\", grayscale = True, region =(198, 480, 1231, 142))\n",
    "    tm3 = p.locateCenterOnScreen(\"1tm_3.png\", grayscale = True, region =(198, 480, 1231, 142))\n",
    "      \n",
    "    alttab()\n",
    "    p.press('right');p.hotkey('ctrl', 'c')\n",
    "     \n",
    "   \n",
    "    if tm1 != None:\n",
    "        p.doubleClick(tm1);p.press('right');p.press('right');p.press('right');p.press('right');p.press('right')\n",
    "        p.hotkey('ctrl', 'v')      \n",
    "    elif tm2 != None:\n",
    "        p.doubleClick(tm2);p.press('right');p.press('right');p.press('right');p.press('right');p.press('right')\n",
    "        p.hotkey('ctrl', 'v')\n",
    "    elif tm3 != None:\n",
    "        p.doubleClick(tm3);p.press('right');p.press('right');p.press('right');p.press('right');p.press('right')\n",
    "        p.hotkey('ctrl', 'v')\n",
    "    else:\n",
    "        p.doubleClick(974,633);p.press('right');p.press('right');p.press('right');p.press('right');p.press('right')\n",
    "        \n",
    "        \n",
    "    p.click(add_to_list)\n",
    "    time.sleep(2)\n",
    "    add_error = p.locateCenterOnScreen(\"add_error.png\")\n",
    "    volume_error = p.locateCenterOnScreen(\"volume_error.png\")\n",
    "    \n",
    "    if add_error != None:\n",
    "        p.press('enter')\n",
    "        alttab()\n",
    "        p.press('right');p.press('f2');p.typewrite(\"SKU_NOT_CHECKED\");p.press('enter')\n",
    "        p.press('left');p.press('left');p.press('left');p.press('left')\n",
    "        \n",
    "    elif volume_error != None:\n",
    "        p.press('enter')\n",
    "        alttab()\n",
    "        p.press('right');p.press('f2');p.typewrite(\"QTY_EXCESS\");p.press('enter')\n",
    "        p.press('left');p.press('left');p.press('left');p.press('left')        \n",
    "        \n",
    "    else:\n",
    "        p.press('enter')\n",
    "        alttab()\n",
    "        p.press('right');p.press('f2');p.typewrite(\"DONE\");p.press('enter')\n",
    "        p.press('left');p.press('left');p.press('left');p.press('left')\n",
    "        \n",
    "\n",
    "messagebox.showinfo(\"신청끝\", \"신청이 완료되었습니닿ㅎㅎ\")\n"
   ]
  },
  {
   "cell_type": "markdown",
   "metadata": {},
   "source": [
    "# 스크린샷 찍기"
   ]
  },
  {
   "cell_type": "code",
   "execution_count": null,
   "metadata": {},
   "outputs": [],
   "source": [
    "import pyautogui as p\n",
    "point = p.position()\n",
    "p.click(point);p.screenshot()"
   ]
  },
  {
   "cell_type": "markdown",
   "metadata": {},
   "source": [
    "# 좌표 얻기"
   ]
  },
  {
   "cell_type": "code",
   "execution_count": null,
   "metadata": {},
   "outputs": [],
   "source": [
    "import pyautogui as p\n",
    "p.locateOnScreen('section2.png')"
   ]
  }
 ],
 "metadata": {
  "kernelspec": {
   "display_name": "Python 3",
   "language": "python",
   "name": "python3"
  },
  "language_info": {
   "codemirror_mode": {
    "name": "ipython",
    "version": 3
   },
   "file_extension": ".py",
   "mimetype": "text/x-python",
   "name": "python",
   "nbconvert_exporter": "python",
   "pygments_lexer": "ipython3",
   "version": "3.7.4"
  }
 },
 "nbformat": 4,
 "nbformat_minor": 2
}

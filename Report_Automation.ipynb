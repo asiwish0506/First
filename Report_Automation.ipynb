{
 "cells": [
  {
   "cell_type": "code",
   "execution_count": null,
   "metadata": {
    "scrolled": false
   },
   "outputs": [],
   "source": [
    "import subprocess\n",
    "import pyautogui as p\n",
    "import time\n",
    "import os\n",
    "import schedule\n",
    "\n",
    "def alttab():\n",
    "    p.keyDown('alt');p.press('tab');p.keyUp('alt')\n",
    "\n",
    "def job():\n",
    "\n",
    "    bex = 'C://Program Files (x86)//SAP//Business Explorer//BI//BExanalyzer.exe'\n",
    "    report = 'L://ICM팀//9. 지표관리//모니터링//MAIN//모니터링_20.03월_200311.xlsm'\n",
    "\n",
    "    os.startfile(bex) #벡스 오픈\n",
    "    time.sleep(10)\n",
    "    \n",
    "    p.FAILSAFE = False\n",
    "\n",
    "    p.click(808, 30)\n",
    "    time.sleep(2)\n",
    "    p.press('alt');p.press('x');p.press('y');p.press('f');p.press('down');p.press('down');p.press('enter')\n",
    "\n",
    "    time.sleep(2)\n",
    "    p.keyDown('alt');p.press('w');p.keyUp('alt');p.typewrite('password21!');p.press('enter')\n",
    "    time.sleep(10)\n",
    "\n",
    "    bookmark = p.locateCenterOnScreen('bookmark.png')\n",
    "    time.sleep(5)\n",
    "    p.click(bookmark)\n",
    "    time.sleep(2)\n",
    "    p.press('enter')\n",
    "    time.sleep(2)\n",
    "    p.press('enter')\n",
    "\n",
    "\n",
    "    time.sleep(60)\n",
    "    p.press('alt');p.press('x');p.press('y');p.press('h')                                                    \n",
    "    time.sleep(1000)\n",
    "    p.press('alt');p.press('x');p.press('y');p.press('g');p.press('down');p.press('enter')\n",
    "    time.sleep(30)\n",
    "    p.click(1026, 581);p.hotkey('ctrl', 'a');p.hotkey('ctrl', 'c')\n",
    "    time.sleep(2)\n",
    "\n",
    "    os.startfile('C://Program Files (x86)//Microsoft Office//Office15//excel.exe')\n",
    "    time.sleep(30)\n",
    "    p.doubleClick(150,162)\n",
    "    time.sleep(30)\n",
    "\n",
    "    p.doubleClick(670,194)\n",
    "    time.sleep(30)\n",
    "    p.doubleClick(600,496)\n",
    "    time.sleep(15)\n",
    "    p.doubleClick(737,496)\n",
    "    time.sleep(30)\n",
    "\n",
    "\n",
    "    p.hotkey('ctrl', 'pagedown');p.hotkey('ctrl', 'pagedown');p.hotkey('ctrl', 'pagedown');\n",
    "    p.hotkey('ctrl', 'pagedown');\n",
    "    p.hotkey('ctrl', 'pagedown');p.hotkey('ctrl', 'pagedown');p.hotkey('ctrl', 'pagedown');\n",
    "    p.hotkey('ctrl', 'pagedown');\n",
    "    p.hotkey('ctrl', 'pageup')\n",
    "    time.sleep(1)\n",
    "\n",
    "    p.hotkey('ctrl', 'home');p.press('left');p.press('left');p.press('left')\n",
    "    p.press('up');p.press('up');p.press('up');p.press('up');p.press('up');p.press('up');p.press('up');\n",
    "    p.hotkey('ctrl', 'v')\n",
    "    time.sleep(30)\n",
    "\n",
    "    alttab()\n",
    "    time.sleep(10)\n",
    "    p.press('alt');p.press('x');p.press('y');p.press('f');p.press('down');p.press('down');p.press('enter')\n",
    "    bookmark = p.locateCenterOnScreen('bookmark.png')\n",
    "    time.sleep(5)\n",
    "    time.sleep(2)\n",
    "    p.press('tab');p.press('tab');p.press('tab');p.press('tab');p.press('tab');p.press('tab')\n",
    "    p.press('tab');p.press('down')\n",
    "    p.press('enter')\n",
    "    time.sleep(60)\n",
    "\n",
    "    p.press('alt');p.press('x');p.press('y');p.press('h')                                                    \n",
    "    time.sleep(1000)\n",
    "    p.press('alt');p.press('x');p.press('y');p.press('g');p.press('down');p.press('enter')\n",
    "    time.sleep(30)\n",
    "    p.click(1026, 581);p.hotkey('ctrl', 'a');p.hotkey('ctrl', 'c')\n",
    "    time.sleep(2)\n",
    "\n",
    "    p.keyDown('alt');p.press('tab');p.press('tab');p.keyUp('alt')\n",
    "    p.hotkey('ctrl', 'pagedown')\n",
    "    time.sleep(1)\n",
    "    p.hotkey('ctrl', 'home');p.press('left');p.press('left');p.press('left')\n",
    "    p.press('up');p.press('up');p.press('up');p.press('up');p.press('up');\n",
    "    p.hotkey('ctrl','v')\n",
    "    time.sleep(30)\n",
    "    \n",
    "schedule.every().monday.at(\"07:00\").do(job)\n",
    "\n",
    "while True: \n",
    "    schedule.run_pending()\n",
    "    time.sleep(1)  \n"
   ]
  },
  {
   "cell_type": "markdown",
   "metadata": {},
   "source": [
    "### 새로고침 후 저장 "
   ]
  },
  {
   "cell_type": "code",
   "execution_count": null,
   "metadata": {},
   "outputs": [],
   "source": [
    "p.press('alt');p.press('x');p.press('y');p.press('h')                                                    \n",
    "time.sleep(1000)\n",
    "p.press('alt');p.press('x');p.press('y');p.press('g');p.press('down');p.press('enter')\n",
    "time.sleep(30)"
   ]
  },
  {
   "cell_type": "markdown",
   "metadata": {},
   "source": [
    "### 스케줄링"
   ]
  },
  {
   "cell_type": "code",
   "execution_count": null,
   "metadata": {},
   "outputs": [],
   "source": [
    "import schedule\n",
    "import time\n",
    "\n",
    "def job():\n",
    "    print(\"I'm working...\")\n",
    "\n",
    "schedule.every().day.at(\"11:30\").do(job)\n",
    "\n",
    "while True: \n",
    "    schedule.run_pending()\n",
    "    time.sleep(1)"
   ]
  },
  {
   "cell_type": "code",
   "execution_count": null,
   "metadata": {},
   "outputs": [],
   "source": [
    "contents_use = p.locateCenterOnScreen('contents_use.png')\n",
    "\n",
    "if p.locateCenterOnScreen != None:\n",
    "    p.doubleClick(contents_use)\n",
    "    time.sleep(30)\n",
    "    p.press('enter')\n",
    "    time.sleep(10)\n",
    "    p.press('enter')\n",
    "    time.sleep(10)\n",
    "    p.press('enter')\n",
    "    time.sleep(5)\n",
    "    p.press('enter')\n",
    "    time.slee(30)\n",
    "else:\n",
    "    p.hotkey('alt','u')\n",
    "    time.sleep(10)\n",
    "    p.hotkey('alt','c')\n",
    "    time.sleep(30)"
   ]
  },
  {
   "cell_type": "code",
   "execution_count": null,
   "metadata": {},
   "outputs": [],
   "source": [
    "import os\n",
    "import pyautogui as p\n",
    "os.startfile('C://Program Files (x86)//Microsoft Office//Office15//excel.exe')\n",
    "p.doubleclick(150,162)"
   ]
  },
  {
   "cell_type": "code",
   "execution_count": null,
   "metadata": {},
   "outputs": [],
   "source": [
    "import pyautogui as p\n",
    "p.position()"
   ]
  }
 ],
 "metadata": {
  "kernelspec": {
   "display_name": "Python 3",
   "language": "python",
   "name": "python3"
  },
  "language_info": {
   "codemirror_mode": {
    "name": "ipython",
    "version": 3
   },
   "file_extension": ".py",
   "mimetype": "text/x-python",
   "name": "python",
   "nbconvert_exporter": "python",
   "pygments_lexer": "ipython3",
   "version": "3.7.4"
  }
 },
 "nbformat": 4,
 "nbformat_minor": 2
}
